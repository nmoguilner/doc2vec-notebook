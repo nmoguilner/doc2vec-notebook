{
 "cells": [
  {
   "cell_type": "code",
   "execution_count": 1,
   "metadata": {},
   "outputs": [],
   "source": [
    "#Import all the dependencies\n",
    "from gensim.models.doc2vec import Doc2Vec, TaggedDocument\n",
    "from nltk.tokenize import word_tokenize"
   ]
  },
  {
   "cell_type": "code",
   "execution_count": 2,
   "metadata": {},
   "outputs": [],
   "source": [
    "data_good = [\"I like machine learning\",\n",
    "        \"I love coding in python\",\n",
    "        \"I love building chatbots\",\n",
    "        \"I dont hate you\",\n",
    "        \"they chat amagingly well\"]\n",
    "\n",
    "data_bad = [\"I dont like machine learning\",\n",
    "        \"I hate coding in python\",\n",
    "        \"I really hate building chatbots\",\n",
    "        \"they chat really bad\"]\n"
   ]
  },
  {
   "cell_type": "code",
   "execution_count": 16,
   "metadata": {},
   "outputs": [],
   "source": [
    "import numpy as np\n",
    "from sklearn.model_selection import train_test_split\n",
    "\n",
    "#use 1 for positive sentiment, 0 for negative\n",
    "y = np.concatenate((np.ones(len(data_good)), np.zeros(len(data_bad))))\n",
    "x_train, x_test, y_train, y_test = train_test_split(np.concatenate((data_good, data_bad)), y, test_size=0.2)"
   ]
  },
  {
   "cell_type": "code",
   "execution_count": 17,
   "metadata": {},
   "outputs": [
    {
     "name": "stdout",
     "output_type": "stream",
     "text": [
      "x_train: ['I really hate building chatbots' 'I hate coding in python'\n",
      " 'I love building chatbots' 'they chat really bad'\n",
      " 'they chat amagingly well' 'I like machine learning' 'I dont hate you']\n",
      "y_train: [0. 0. 1. 0. 1. 1. 1.]\n",
      "x_test: ['I dont like machine learning' 'I love coding in python']\n",
      "y_test: [0. 1.]\n"
     ]
    }
   ],
   "source": [
    "print('x_train:', x_train)\n",
    "print('y_train:', y_train)\n",
    "print('x_test:', x_test)\n",
    "print('y_test:', y_test)"
   ]
  },
  {
   "cell_type": "code",
   "execution_count": 18,
   "metadata": {},
   "outputs": [],
   "source": [
    "import nltk\n",
    "from nltk.corpus import stopwords\n",
    "\n",
    "def tokenize_text(text):\n",
    "    tokens = []\n",
    "    for sent in nltk.sent_tokenize(text):\n",
    "        for word in nltk.word_tokenize(sent):\n",
    "            if len(word) < 2:\n",
    "                continue\n",
    "            tokens.append(word.lower())\n",
    "    return tokens"
   ]
  },
  {
   "cell_type": "code",
   "execution_count": 19,
   "metadata": {},
   "outputs": [
    {
     "data": {
      "text/plain": [
       "[TaggedDocument(words=['really', 'hate', 'building', 'chatbots'], tags=['0']),\n",
       " TaggedDocument(words=['hate', 'coding', 'in', 'python'], tags=['0']),\n",
       " TaggedDocument(words=['love', 'building', 'chatbots'], tags=['1']),\n",
       " TaggedDocument(words=['they', 'chat', 'really', 'bad'], tags=['0']),\n",
       " TaggedDocument(words=['they', 'chat', 'amagingly', 'well'], tags=['1']),\n",
       " TaggedDocument(words=['like', 'machine', 'learning'], tags=['1']),\n",
       " TaggedDocument(words=['dont', 'hate', 'you'], tags=['1'])]"
      ]
     },
     "execution_count": 19,
     "metadata": {},
     "output_type": "execute_result"
    }
   ],
   "source": [
    "from gensim.models.doc2vec import TaggedDocument\n",
    "\n",
    "    \n",
    "train_tagged = [TaggedDocument(words=tokenize_text(s), tags=[str(int(y_train[idx]))]) for (idx, s) in enumerate(x_train)]\n",
    "test_tagged = [TaggedDocument(words=tokenize_text(s), tags=[str(int(y_test[idx]))]) for (idx, s) in enumerate(x_test)]\n",
    "\n",
    "train_tagged"
   ]
  },
  {
   "cell_type": "code",
   "execution_count": 20,
   "metadata": {},
   "outputs": [],
   "source": [
    "import multiprocessing\n",
    "cores = multiprocessing.cpu_count()"
   ]
  },
  {
   "cell_type": "code",
   "execution_count": 21,
   "metadata": {},
   "outputs": [
    {
     "name": "stderr",
     "output_type": "stream",
     "text": [
      "/Library/Frameworks/Python.framework/Versions/3.7/lib/python3.7/site-packages/gensim/models/doc2vec.py:580: UserWarning: The parameter `size` is deprecated, will be removed in 4.0.0, use `vector_size` instead.\n",
      "  warnings.warn(\"The parameter `size` is deprecated, will be removed in 4.0.0, use `vector_size` instead.\")\n"
     ]
    }
   ],
   "source": [
    "from gensim.models import Doc2Vec\n",
    "\n",
    "model_dbow = Doc2Vec(dm=1, size=100, negative=5, min_count=0, workers=cores, alpha=0.065, min_alpha=0.065)\n",
    "\n",
    "model_dbow.build_vocab([x for x in train_tagged])"
   ]
  },
  {
   "cell_type": "code",
   "execution_count": 22,
   "metadata": {},
   "outputs": [
    {
     "name": "stderr",
     "output_type": "stream",
     "text": [
      "100%|██████████| 7/7 [00:00<00:00, 25913.62it/s]\n",
      "100%|██████████| 7/7 [00:00<00:00, 42427.93it/s]\n",
      "100%|██████████| 7/7 [00:00<00:00, 46976.20it/s]\n",
      "100%|██████████| 7/7 [00:00<00:00, 53773.13it/s]\n",
      "100%|██████████| 7/7 [00:00<00:00, 41178.30it/s]\n",
      "100%|██████████| 7/7 [00:00<00:00, 53970.82it/s]\n",
      "100%|██████████| 7/7 [00:00<00:00, 45519.58it/s]\n",
      "100%|██████████| 7/7 [00:00<00:00, 37259.05it/s]\n",
      "100%|██████████| 7/7 [00:00<00:00, 60661.42it/s]\n",
      "100%|██████████| 7/7 [00:00<00:00, 43176.66it/s]\n"
     ]
    },
    {
     "name": "stdout",
     "output_type": "stream",
     "text": [
      "Model Saved\n"
     ]
    }
   ],
   "source": [
    "from sklearn import utils\n",
    "from tqdm import tqdm\n",
    "\n",
    "for epoch in range(10):\n",
    "    model_dbow.train(utils.shuffle([x for x in tqdm(train_tagged)]), total_examples=len(train_tagged), epochs=10)\n",
    "    model_dbow.alpha -= 0.002\n",
    "    model_dbow.min_alpha = model_dbow.alpha\n",
    "\n",
    "model_dbow.save(\"d2v_2.model\")\n",
    "print(\"Model Saved\")"
   ]
  },
  {
   "cell_type": "code",
   "execution_count": 23,
   "metadata": {},
   "outputs": [
    {
     "name": "stdout",
     "output_type": "stream",
     "text": [
      "test data ['dont', 'hate', 'machine', 'learning']\n"
     ]
    },
    {
     "data": {
      "text/plain": [
       "[('1', 0.9668535590171814), ('0', 0.9651862978935242)]"
      ]
     },
     "execution_count": 23,
     "metadata": {},
     "output_type": "execute_result"
    }
   ],
   "source": [
    "from gensim.models.doc2vec import Doc2Vec\n",
    "\n",
    "model_dbow = Doc2Vec.load(\"d2v_2.model\")\n",
    "#to find the vector of a document which is not in training data\n",
    "test_data = tokenize_text(\"I dont hate machine learning\".lower())\n",
    "\n",
    "print('test data', test_data)\n",
    "\n",
    "# model.most_similar('learning')\n",
    "\n",
    "v = model_dbow.infer_vector(test_data)\n",
    "model_dbow.docvecs.most_similar([v], topn=len(model_dbow.docvecs))\n"
   ]
  },
  {
   "cell_type": "code",
   "execution_count": 24,
   "metadata": {},
   "outputs": [],
   "source": [
    "def vec_for_learning(model, tagged_docs):\n",
    "        sents = tagged_docs\n",
    "        targets, regressors = zip(*[(doc.tags[0], model.infer_vector(doc.words, steps=20)) for doc in sents])\n",
    "        return targets, regressors"
   ]
  },
  {
   "cell_type": "code",
   "execution_count": 28,
   "metadata": {},
   "outputs": [
    {
     "ename": "TypeError",
     "evalue": "vec_for_learning() missing 1 required positional argument: 'tagged_docs'",
     "output_type": "error",
     "traceback": [
      "\u001b[0;31m---------------------------------------------------------------------------\u001b[0m",
      "\u001b[0;31mTypeError\u001b[0m                                 Traceback (most recent call last)",
      "\u001b[0;32m<ipython-input-28-0f49b6ee892a>\u001b[0m in \u001b[0;36m<module>\u001b[0;34m()\u001b[0m\n\u001b[1;32m      1\u001b[0m \u001b[0;32mfrom\u001b[0m \u001b[0msklearn\u001b[0m\u001b[0;34m.\u001b[0m\u001b[0mlinear_model\u001b[0m \u001b[0;32mimport\u001b[0m \u001b[0mSGDClassifier\u001b[0m\u001b[0;34m\u001b[0m\u001b[0;34m\u001b[0m\u001b[0m\n\u001b[1;32m      2\u001b[0m \u001b[0mlr\u001b[0m \u001b[0;34m=\u001b[0m \u001b[0mSGDClassifier\u001b[0m\u001b[0;34m(\u001b[0m\u001b[0mloss\u001b[0m\u001b[0;34m=\u001b[0m\u001b[0;34m'log'\u001b[0m\u001b[0;34m,\u001b[0m \u001b[0mpenalty\u001b[0m\u001b[0;34m=\u001b[0m\u001b[0;34m'l1'\u001b[0m\u001b[0;34m)\u001b[0m\u001b[0;34m\u001b[0m\u001b[0;34m\u001b[0m\u001b[0m\n\u001b[0;32m----> 3\u001b[0;31m \u001b[0mlr\u001b[0m\u001b[0;34m.\u001b[0m\u001b[0mfit\u001b[0m\u001b[0;34m(\u001b[0m\u001b[0mvec_for_learning\u001b[0m\u001b[0;34m(\u001b[0m\u001b[0mx_train\u001b[0m\u001b[0;34m)\u001b[0m\u001b[0;34m,\u001b[0m \u001b[0mvec_for_learning\u001b[0m\u001b[0;34m(\u001b[0m\u001b[0my_train\u001b[0m\u001b[0;34m)\u001b[0m\u001b[0;34m)\u001b[0m\u001b[0;34m\u001b[0m\u001b[0;34m\u001b[0m\u001b[0m\n\u001b[0m\u001b[1;32m      4\u001b[0m \u001b[0mprint\u001b[0m\u001b[0;34m(\u001b[0m\u001b[0;34m'Test Accuracy: %.2f'\u001b[0m\u001b[0;34m%\u001b[0m\u001b[0mlr\u001b[0m\u001b[0;34m.\u001b[0m\u001b[0mscore\u001b[0m\u001b[0;34m(\u001b[0m\u001b[0mx_test\u001b[0m\u001b[0;34m,\u001b[0m \u001b[0my_test\u001b[0m\u001b[0;34m)\u001b[0m\u001b[0;34m)\u001b[0m\u001b[0;34m\u001b[0m\u001b[0;34m\u001b[0m\u001b[0m\n",
      "\u001b[0;31mTypeError\u001b[0m: vec_for_learning() missing 1 required positional argument: 'tagged_docs'"
     ]
    }
   ],
   "source": [
    "from sklearn.linear_model import SGDClassifier\n",
    "lr = SGDClassifier(loss='log', penalty='l1')\n",
    "lr.fit(vec_for_learning(x_train), vec_for_learning(y_train))\n",
    "print('Test Accuracy: %.2f'%lr.score(x_test, y_test))"
   ]
  },
  {
   "cell_type": "code",
   "execution_count": null,
   "metadata": {},
   "outputs": [],
   "source": [
    "y_pred = lr.predict(X_test)\n",
    "test_acc = accuracy_score(y_test, y_pred) * 100.\n",
    "loss_values = classifier.loss_curve_\n",
    "print (loss_values)"
   ]
  },
  {
   "cell_type": "code",
   "execution_count": null,
   "metadata": {},
   "outputs": [],
   "source": [
    "import matplotlib.pyplot as plt\n",
    "\n",
    "%matplotlib inline\n",
    "plt.plot(loss_values)\n",
    "plt.show()"
   ]
  },
  {
   "cell_type": "code",
   "execution_count": null,
   "metadata": {},
   "outputs": [],
   "source": [
    "test_data = tokenize_text(\"I hate chatbots\".lower())\n",
    "\n",
    "print('test data', test_data)\n",
    "\n",
    "v = model_dbow.infer_vector(test_data)\n",
    "model_dbow.docvecs.most_similar([v], topn=len(model_dbow.docvecs))\n"
   ]
  },
  {
   "cell_type": "code",
   "execution_count": null,
   "metadata": {},
   "outputs": [],
   "source": [
    "model_dbow.most_similar('hate')"
   ]
  }
 ],
 "metadata": {
  "kernelspec": {
   "display_name": "Python 3",
   "language": "python",
   "name": "python3"
  },
  "language_info": {
   "codemirror_mode": {
    "name": "ipython",
    "version": 3
   },
   "file_extension": ".py",
   "mimetype": "text/x-python",
   "name": "python",
   "nbconvert_exporter": "python",
   "pygments_lexer": "ipython3",
   "version": "3.7.3"
  }
 },
 "nbformat": 4,
 "nbformat_minor": 2
}

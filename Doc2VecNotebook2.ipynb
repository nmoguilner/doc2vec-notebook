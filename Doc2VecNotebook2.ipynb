{
 "cells": [
  {
   "cell_type": "code",
   "execution_count": 77,
   "metadata": {},
   "outputs": [],
   "source": [
    "from os import listdir\n",
    "from os.path import isfile, join\n",
    "\n",
    "train_pos_path = 'movies/data/train/pos'\n",
    "train_neg_path = 'movies/data/train/neg'\n",
    "train_sup_path = 'movies/data/train/unsup'\n",
    "\n",
    "def get_all_files(dir):\n",
    "    return [('%s/%s' % (dir, f)) for f in listdir(dir) if isfile(join(dir, f))]    \n",
    "    \n",
    "all_pos_train_files = get_all_files(train_pos_path)\n",
    "all_neg_train_files = get_all_files(train_pos_path)\n",
    "all_unsup_train_files = get_all_files(train_pos_path)"
   ]
  },
  {
   "cell_type": "code",
   "execution_count": 79,
   "metadata": {},
   "outputs": [],
   "source": [
    "def merge_all_into(target_file, origin_files):\n",
    "    with open(target_file, 'w+', encoding=\"utf8\") as outfile:\n",
    "        for fname in origin_files:\n",
    "            with open(fname,encoding=\"utf8\") as infile:\n",
    "                outfile.write(infile.read() + \"\\n\")\n",
    "\n",
    "merge_all_into('all_pos.txt', all_pos_train_files)\n",
    "merge_all_into('all_neg.txt', all_neg_train_files)\n",
    "merge_all_into('all_unsup.txt', all_unsup_train_files)"
   ]
  },
  {
   "cell_type": "code",
   "execution_count": 87,
   "metadata": {},
   "outputs": [],
   "source": [
    "from sklearn.model_selection import train_test_split\n",
    "import numpy as np\n",
    "\n",
    "with open('all_pos.txt','r',encoding=\"utf8\") as infile:\n",
    "    pos_reviews = infile.readlines()\n",
    "    \n",
    "with open('all_neg.txt','r',encoding=\"utf8\") as infile:\n",
    "    neg_reviews = infile.readlines()\n",
    "    \n",
    "with open('all_sup.txt','r',encoding=\"utf8\") as infile:\n",
    "    unsup_reviews = infile.readlines()\n",
    "    \n",
    "#use 1 for positive sentiment, 0 for negative\n",
    "y = np.concatenate((np.ones(len(pos_reviews)), np.zeros(len(neg_reviews))))\n",
    "x_train, x_test, y_train, y_test = train_test_split(np.concatenate((pos_reviews, neg_reviews)), y, test_size=0.2)\n",
    "    "
   ]
  },
  {
   "cell_type": "code",
   "execution_count": 89,
   "metadata": {},
   "outputs": [],
   "source": [
    "from bs4 import BeautifulSoup\n",
    "import re\n",
    "\n",
    "def cleanText(text): \n",
    "    text = BeautifulSoup(text, \"lxml\").text\n",
    "    text = re.sub(r'\\|\\|\\|', r' ', text) \n",
    "    text = text.lower()\n",
    "    text = text.replace('\"', '')\n",
    "    text = text.replace('...', '')\n",
    "    text = text.replace('<br />', '')\n",
    "    return text\n",
    "\n",
    "x_train = [cleanText(text) for text in x_train]\n",
    "x_test = [cleanText(text) for text in x_test]\n",
    "unsup_reviews = [cleanText(text) for text in unsup_reviews]"
   ]
  },
  {
   "cell_type": "code",
   "execution_count": 90,
   "metadata": {},
   "outputs": [],
   "source": [
    "import nltk\n",
    "from nltk.corpus import stopwords\n",
    "\n",
    "def tokenize_text(text):\n",
    "    tokens = []\n",
    "    for sent in nltk.sent_tokenize(text):\n",
    "        for word in nltk.word_tokenize(sent):\n",
    "            if len(word) < 2:\n",
    "                continue\n",
    "            tokens.append(word.lower())\n",
    "    return tokens"
   ]
  },
  {
   "cell_type": "code",
   "execution_count": 91,
   "metadata": {},
   "outputs": [],
   "source": [
    " from gensim.models.doc2vec import TaggedDocument\n",
    "\n",
    "    \n",
    "train_tagged = [TaggedDocument(words=tokenize_text(s), tags=['%s_%s'%('TRAIN',idx)]) for (idx, s) in enumerate(x_train)]\n",
    "test_tagged = [TaggedDocument(words=tokenize_text(s), tags=['%s_%s'%('TEST',idx)]) for (idx, s) in enumerate(x_test)]\n",
    "unsup_tagged = [TaggedDocument(words=tokenize_text(s), tags=['%s_%s'%('UNSUP',idx)]) for (idx, s) in enumerate(unsup_reviews)]\n"
   ]
  },
  {
   "cell_type": "code",
   "execution_count": 92,
   "metadata": {},
   "outputs": [],
   "source": [
    "import multiprocessing\n",
    "cores = multiprocessing.cpu_count()"
   ]
  },
  {
   "cell_type": "code",
   "execution_count": 172,
   "metadata": {},
   "outputs": [],
   "source": [
    "from gensim.test.utils import common_texts, get_tmpfile\n",
    "from gensim.models import Word2Vec\n",
    "from gensim.models.callbacks import CallbackAny2Vec\n",
    "\n",
    "class callback(CallbackAny2Vec):\n",
    "    '''Callback to print loss after each epoch.'''\n",
    "\n",
    "    def __init__(self):\n",
    "        self.epoch = 0\n",
    "\n",
    "    def on_epoch_end(self, model):\n",
    "        loss = model.running_training_loss\n",
    "        print(model.compute_loss)\n",
    "        print('Loss after epoch {}: {}'.format(self.epoch, loss))\n",
    "        self.epoch += 1"
   ]
  },
  {
   "cell_type": "code",
   "execution_count": 175,
   "metadata": {},
   "outputs": [
    {
     "name": "stderr",
     "output_type": "stream",
     "text": [
      "100%|██████████| 20000/20000 [00:00<00:00, 2448299.33it/s]\n"
     ]
    }
   ],
   "source": [
    "from tqdm import tqdm\n",
    "from gensim.models import Doc2Vec\n",
    "\n",
    "model_dbow = Doc2Vec(dm=1, vector_size=300, negative=5, hs=0, min_count=2, sample = 0, workers=cores, compute_loss=True, callbacks=[callback()])\n",
    "\n",
    "model_dbow.compute_loss = True\n",
    "model_dbow.build_vocab([x for x in tqdm(train_tagged)])"
   ]
  },
  {
   "cell_type": "code",
   "execution_count": 176,
   "metadata": {
    "scrolled": true
   },
   "outputs": [
    {
     "name": "stderr",
     "output_type": "stream",
     "text": [
      "100%|██████████| 20000/20000 [00:00<00:00, 2265782.89it/s]\n"
     ]
    },
    {
     "name": "stdout",
     "output_type": "stream",
     "text": [
      "False\n",
      "Loss after epoch 0: 0.0\n",
      "False\n",
      "Loss after epoch 1: 0.0\n",
      "False\n",
      "Loss after epoch 2: 0.0\n",
      "False\n",
      "Loss after epoch 3: 0.0\n",
      "False\n",
      "Loss after epoch 4: 0.0\n",
      "False\n",
      "Loss after epoch 5: 0.0\n",
      "False\n",
      "Loss after epoch 6: 0.0\n",
      "False\n",
      "Loss after epoch 7: 0.0\n",
      "False\n",
      "Loss after epoch 8: 0.0\n"
     ]
    },
    {
     "name": "stderr",
     "output_type": "stream",
     "text": [
      "100%|██████████| 20000/20000 [00:00<00:00, 2785894.86it/s]"
     ]
    },
    {
     "name": "stdout",
     "output_type": "stream",
     "text": [
      "False\n",
      "Loss after epoch 9: 0.0\n"
     ]
    },
    {
     "name": "stderr",
     "output_type": "stream",
     "text": [
      "\n"
     ]
    },
    {
     "name": "stdout",
     "output_type": "stream",
     "text": [
      "False\n",
      "Loss after epoch 10: 0.0\n",
      "False\n",
      "Loss after epoch 11: 0.0\n",
      "False\n",
      "Loss after epoch 12: 0.0\n",
      "False\n",
      "Loss after epoch 13: 0.0\n",
      "False\n",
      "Loss after epoch 14: 0.0\n",
      "False\n",
      "Loss after epoch 15: 0.0\n",
      "False\n",
      "Loss after epoch 16: 0.0\n",
      "False\n",
      "Loss after epoch 17: 0.0\n",
      "False\n",
      "Loss after epoch 18: 0.0\n"
     ]
    },
    {
     "name": "stderr",
     "output_type": "stream",
     "text": [
      "100%|██████████| 20000/20000 [00:00<00:00, 2525548.10it/s]"
     ]
    },
    {
     "name": "stdout",
     "output_type": "stream",
     "text": [
      "False\n",
      "Loss after epoch 19: 0.0\n"
     ]
    },
    {
     "name": "stderr",
     "output_type": "stream",
     "text": [
      "\n"
     ]
    },
    {
     "name": "stdout",
     "output_type": "stream",
     "text": [
      "False\n",
      "Loss after epoch 20: 0.0\n",
      "False\n",
      "Loss after epoch 21: 0.0\n",
      "False\n",
      "Loss after epoch 22: 0.0\n",
      "False\n",
      "Loss after epoch 23: 0.0\n",
      "False\n",
      "Loss after epoch 24: 0.0\n",
      "False\n",
      "Loss after epoch 25: 0.0\n",
      "False\n",
      "Loss after epoch 26: 0.0\n",
      "False\n",
      "Loss after epoch 27: 0.0\n",
      "False\n",
      "Loss after epoch 28: 0.0\n"
     ]
    },
    {
     "name": "stderr",
     "output_type": "stream",
     "text": [
      "100%|██████████| 20000/20000 [00:00<00:00, 2438477.95it/s]"
     ]
    },
    {
     "name": "stdout",
     "output_type": "stream",
     "text": [
      "False\n",
      "Loss after epoch 29: 0.0\n"
     ]
    },
    {
     "name": "stderr",
     "output_type": "stream",
     "text": [
      "\n"
     ]
    },
    {
     "name": "stdout",
     "output_type": "stream",
     "text": [
      "False\n",
      "Loss after epoch 30: 0.0\n",
      "False\n",
      "Loss after epoch 31: 0.0\n",
      "False\n",
      "Loss after epoch 32: 0.0\n",
      "False\n",
      "Loss after epoch 33: 0.0\n",
      "False\n",
      "Loss after epoch 34: 0.0\n",
      "False\n",
      "Loss after epoch 35: 0.0\n",
      "False\n",
      "Loss after epoch 36: 0.0\n",
      "False\n",
      "Loss after epoch 37: 0.0\n",
      "False\n",
      "Loss after epoch 38: 0.0\n"
     ]
    },
    {
     "name": "stderr",
     "output_type": "stream",
     "text": [
      "100%|██████████| 20000/20000 [00:00<00:00, 2742002.42it/s]"
     ]
    },
    {
     "name": "stdout",
     "output_type": "stream",
     "text": [
      "False\n",
      "Loss after epoch 39: 0.0\n"
     ]
    },
    {
     "name": "stderr",
     "output_type": "stream",
     "text": [
      "\n"
     ]
    },
    {
     "name": "stdout",
     "output_type": "stream",
     "text": [
      "False\n",
      "Loss after epoch 40: 0.0\n",
      "False\n",
      "Loss after epoch 41: 0.0\n",
      "False\n",
      "Loss after epoch 42: 0.0\n",
      "False\n",
      "Loss after epoch 43: 0.0\n",
      "False\n",
      "Loss after epoch 44: 0.0\n",
      "False\n",
      "Loss after epoch 45: 0.0\n",
      "False\n",
      "Loss after epoch 46: 0.0\n",
      "False\n",
      "Loss after epoch 47: 0.0\n",
      "False\n",
      "Loss after epoch 48: 0.0\n"
     ]
    },
    {
     "name": "stderr",
     "output_type": "stream",
     "text": [
      "100%|██████████| 20000/20000 [00:00<00:00, 2680580.30it/s]"
     ]
    },
    {
     "name": "stdout",
     "output_type": "stream",
     "text": [
      "False\n",
      "Loss after epoch 49: 0.0\n"
     ]
    },
    {
     "name": "stderr",
     "output_type": "stream",
     "text": [
      "\n"
     ]
    },
    {
     "name": "stdout",
     "output_type": "stream",
     "text": [
      "False\n",
      "Loss after epoch 50: 0.0\n",
      "False\n",
      "Loss after epoch 51: 0.0\n",
      "False\n",
      "Loss after epoch 52: 0.0\n",
      "False\n",
      "Loss after epoch 53: 0.0\n",
      "False\n",
      "Loss after epoch 54: 0.0\n",
      "False\n",
      "Loss after epoch 55: 0.0\n",
      "False\n",
      "Loss after epoch 56: 0.0\n",
      "False\n",
      "Loss after epoch 57: 0.0\n",
      "False\n",
      "Loss after epoch 58: 0.0\n"
     ]
    },
    {
     "name": "stderr",
     "output_type": "stream",
     "text": [
      "100%|██████████| 20000/20000 [00:00<00:00, 2696781.33it/s]"
     ]
    },
    {
     "name": "stdout",
     "output_type": "stream",
     "text": [
      "False\n",
      "Loss after epoch 59: 0.0\n"
     ]
    },
    {
     "name": "stderr",
     "output_type": "stream",
     "text": [
      "\n"
     ]
    },
    {
     "name": "stdout",
     "output_type": "stream",
     "text": [
      "False\n",
      "Loss after epoch 60: 0.0\n",
      "False\n",
      "Loss after epoch 61: 0.0\n",
      "False\n",
      "Loss after epoch 62: 0.0\n",
      "False\n",
      "Loss after epoch 63: 0.0\n",
      "False\n",
      "Loss after epoch 64: 0.0\n",
      "False\n",
      "Loss after epoch 65: 0.0\n",
      "False\n",
      "Loss after epoch 66: 0.0\n",
      "False\n",
      "Loss after epoch 67: 0.0\n",
      "False\n",
      "Loss after epoch 68: 0.0\n"
     ]
    },
    {
     "name": "stderr",
     "output_type": "stream",
     "text": [
      "100%|██████████| 20000/20000 [00:00<00:00, 3014773.76it/s]"
     ]
    },
    {
     "name": "stdout",
     "output_type": "stream",
     "text": [
      "False\n",
      "Loss after epoch 69: 0.0\n"
     ]
    },
    {
     "name": "stderr",
     "output_type": "stream",
     "text": [
      "\n"
     ]
    },
    {
     "name": "stdout",
     "output_type": "stream",
     "text": [
      "False\n",
      "Loss after epoch 70: 0.0\n",
      "False\n",
      "Loss after epoch 71: 0.0\n",
      "False\n",
      "Loss after epoch 72: 0.0\n",
      "False\n",
      "Loss after epoch 73: 0.0\n",
      "False\n",
      "Loss after epoch 74: 0.0\n",
      "False\n",
      "Loss after epoch 75: 0.0\n",
      "False\n",
      "Loss after epoch 76: 0.0\n",
      "False\n",
      "Loss after epoch 77: 0.0\n",
      "False\n",
      "Loss after epoch 78: 0.0\n"
     ]
    },
    {
     "name": "stderr",
     "output_type": "stream",
     "text": [
      "100%|██████████| 20000/20000 [00:00<00:00, 2728091.32it/s]"
     ]
    },
    {
     "name": "stdout",
     "output_type": "stream",
     "text": [
      "False\n",
      "Loss after epoch 79: 0.0\n"
     ]
    },
    {
     "name": "stderr",
     "output_type": "stream",
     "text": [
      "\n"
     ]
    },
    {
     "name": "stdout",
     "output_type": "stream",
     "text": [
      "False\n",
      "Loss after epoch 80: 0.0\n",
      "False\n",
      "Loss after epoch 81: 0.0\n",
      "False\n",
      "Loss after epoch 82: 0.0\n",
      "False\n",
      "Loss after epoch 83: 0.0\n",
      "False\n",
      "Loss after epoch 84: 0.0\n",
      "False\n",
      "Loss after epoch 85: 0.0\n",
      "False\n",
      "Loss after epoch 86: 0.0\n",
      "False\n",
      "Loss after epoch 87: 0.0\n",
      "False\n",
      "Loss after epoch 88: 0.0\n"
     ]
    },
    {
     "name": "stderr",
     "output_type": "stream",
     "text": [
      "100%|██████████| 20000/20000 [00:00<00:00, 2716694.09it/s]"
     ]
    },
    {
     "name": "stdout",
     "output_type": "stream",
     "text": [
      "False\n",
      "Loss after epoch 89: 0.0\n"
     ]
    },
    {
     "name": "stderr",
     "output_type": "stream",
     "text": [
      "\n"
     ]
    },
    {
     "name": "stdout",
     "output_type": "stream",
     "text": [
      "False\n",
      "Loss after epoch 90: 0.0\n",
      "False\n",
      "Loss after epoch 91: 0.0\n",
      "False\n",
      "Loss after epoch 92: 0.0\n",
      "False\n",
      "Loss after epoch 93: 0.0\n",
      "False\n",
      "Loss after epoch 94: 0.0\n",
      "False\n",
      "Loss after epoch 95: 0.0\n",
      "False\n",
      "Loss after epoch 96: 0.0\n",
      "False\n",
      "Loss after epoch 97: 0.0\n",
      "False\n",
      "Loss after epoch 98: 0.0\n"
     ]
    },
    {
     "name": "stderr",
     "output_type": "stream",
     "text": [
      "100%|██████████| 20000/20000 [00:00<00:00, 2800216.31it/s]"
     ]
    },
    {
     "name": "stdout",
     "output_type": "stream",
     "text": [
      "False\n",
      "Loss after epoch 99: 0.0\n"
     ]
    },
    {
     "name": "stderr",
     "output_type": "stream",
     "text": [
      "\n"
     ]
    },
    {
     "name": "stdout",
     "output_type": "stream",
     "text": [
      "False\n",
      "Loss after epoch 100: 0.0\n",
      "False\n",
      "Loss after epoch 101: 0.0\n",
      "False\n",
      "Loss after epoch 102: 0.0\n",
      "False\n",
      "Loss after epoch 103: 0.0\n",
      "False\n",
      "Loss after epoch 104: 0.0\n",
      "False\n",
      "Loss after epoch 105: 0.0\n",
      "False\n",
      "Loss after epoch 106: 0.0\n",
      "False\n",
      "Loss after epoch 107: 0.0\n",
      "False\n",
      "Loss after epoch 108: 0.0\n"
     ]
    },
    {
     "name": "stderr",
     "output_type": "stream",
     "text": [
      "100%|██████████| 20000/20000 [00:00<00:00, 2620129.94it/s]"
     ]
    },
    {
     "name": "stdout",
     "output_type": "stream",
     "text": [
      "False\n",
      "Loss after epoch 109: 0.0\n"
     ]
    },
    {
     "name": "stderr",
     "output_type": "stream",
     "text": [
      "\n"
     ]
    },
    {
     "name": "stdout",
     "output_type": "stream",
     "text": [
      "False\n",
      "Loss after epoch 110: 0.0\n",
      "False\n",
      "Loss after epoch 111: 0.0\n",
      "False\n",
      "Loss after epoch 112: 0.0\n",
      "False\n",
      "Loss after epoch 113: 0.0\n",
      "False\n",
      "Loss after epoch 114: 0.0\n",
      "False\n",
      "Loss after epoch 115: 0.0\n",
      "False\n",
      "Loss after epoch 116: 0.0\n",
      "False\n",
      "Loss after epoch 117: 0.0\n",
      "False\n",
      "Loss after epoch 118: 0.0\n"
     ]
    },
    {
     "name": "stderr",
     "output_type": "stream",
     "text": [
      "100%|██████████| 20000/20000 [00:00<00:00, 2760863.61it/s]"
     ]
    },
    {
     "name": "stdout",
     "output_type": "stream",
     "text": [
      "False\n",
      "Loss after epoch 119: 0.0\n"
     ]
    },
    {
     "name": "stderr",
     "output_type": "stream",
     "text": [
      "\n"
     ]
    },
    {
     "name": "stdout",
     "output_type": "stream",
     "text": [
      "False\n",
      "Loss after epoch 120: 0.0\n",
      "False\n",
      "Loss after epoch 121: 0.0\n",
      "False\n",
      "Loss after epoch 122: 0.0\n",
      "False\n",
      "Loss after epoch 123: 0.0\n",
      "False\n",
      "Loss after epoch 124: 0.0\n",
      "False\n",
      "Loss after epoch 125: 0.0\n",
      "False\n",
      "Loss after epoch 126: 0.0\n",
      "False\n",
      "Loss after epoch 127: 0.0\n",
      "False\n",
      "Loss after epoch 128: 0.0\n"
     ]
    },
    {
     "name": "stderr",
     "output_type": "stream",
     "text": [
      "100%|██████████| 20000/20000 [00:00<00:00, 2717750.28it/s]"
     ]
    },
    {
     "name": "stdout",
     "output_type": "stream",
     "text": [
      "False\n",
      "Loss after epoch 129: 0.0\n"
     ]
    },
    {
     "name": "stderr",
     "output_type": "stream",
     "text": [
      "\n"
     ]
    },
    {
     "name": "stdout",
     "output_type": "stream",
     "text": [
      "False\n",
      "Loss after epoch 130: 0.0\n",
      "False\n",
      "Loss after epoch 131: 0.0\n",
      "False\n",
      "Loss after epoch 132: 0.0\n",
      "False\n",
      "Loss after epoch 133: 0.0\n",
      "False\n",
      "Loss after epoch 134: 0.0\n",
      "False\n",
      "Loss after epoch 135: 0.0\n",
      "False\n",
      "Loss after epoch 136: 0.0\n",
      "False\n",
      "Loss after epoch 137: 0.0\n",
      "False\n",
      "Loss after epoch 138: 0.0\n"
     ]
    },
    {
     "name": "stderr",
     "output_type": "stream",
     "text": [
      "100%|██████████| 20000/20000 [00:00<00:00, 2742002.42it/s]"
     ]
    },
    {
     "name": "stdout",
     "output_type": "stream",
     "text": [
      "False\n",
      "Loss after epoch 139: 0.0\n"
     ]
    },
    {
     "name": "stderr",
     "output_type": "stream",
     "text": [
      "\n"
     ]
    },
    {
     "name": "stdout",
     "output_type": "stream",
     "text": [
      "False\n",
      "Loss after epoch 140: 0.0\n",
      "False\n",
      "Loss after epoch 141: 0.0\n",
      "False\n",
      "Loss after epoch 142: 0.0\n",
      "False\n",
      "Loss after epoch 143: 0.0\n",
      "False\n",
      "Loss after epoch 144: 0.0\n",
      "False\n",
      "Loss after epoch 145: 0.0\n",
      "False\n",
      "Loss after epoch 146: 0.0\n",
      "False\n",
      "Loss after epoch 147: 0.0\n",
      "False\n",
      "Loss after epoch 148: 0.0\n"
     ]
    },
    {
     "name": "stderr",
     "output_type": "stream",
     "text": [
      "100%|██████████| 20000/20000 [00:00<00:00, 2662036.05it/s]"
     ]
    },
    {
     "name": "stdout",
     "output_type": "stream",
     "text": [
      "False\n",
      "Loss after epoch 149: 0.0\n"
     ]
    },
    {
     "name": "stderr",
     "output_type": "stream",
     "text": [
      "\n"
     ]
    },
    {
     "name": "stdout",
     "output_type": "stream",
     "text": [
      "False\n",
      "Loss after epoch 150: 0.0\n",
      "False\n",
      "Loss after epoch 151: 0.0\n",
      "False\n",
      "Loss after epoch 152: 0.0\n",
      "False\n",
      "Loss after epoch 153: 0.0\n",
      "False\n",
      "Loss after epoch 154: 0.0\n",
      "False\n",
      "Loss after epoch 155: 0.0\n",
      "False\n",
      "Loss after epoch 156: 0.0\n",
      "False\n",
      "Loss after epoch 157: 0.0\n",
      "False\n",
      "Loss after epoch 158: 0.0\n"
     ]
    },
    {
     "name": "stderr",
     "output_type": "stream",
     "text": [
      "100%|██████████| 20000/20000 [00:00<00:00, 2607668.25it/s]"
     ]
    },
    {
     "name": "stdout",
     "output_type": "stream",
     "text": [
      "False\n",
      "Loss after epoch 159: 0.0\n"
     ]
    },
    {
     "name": "stderr",
     "output_type": "stream",
     "text": [
      "\n"
     ]
    },
    {
     "name": "stdout",
     "output_type": "stream",
     "text": [
      "False\n",
      "Loss after epoch 160: 0.0\n",
      "False\n",
      "Loss after epoch 161: 0.0\n",
      "False\n",
      "Loss after epoch 162: 0.0\n",
      "False\n",
      "Loss after epoch 163: 0.0\n",
      "False\n",
      "Loss after epoch 164: 0.0\n",
      "False\n",
      "Loss after epoch 165: 0.0\n",
      "False\n",
      "Loss after epoch 166: 0.0\n",
      "False\n",
      "Loss after epoch 167: 0.0\n",
      "False\n",
      "Loss after epoch 168: 0.0\n"
     ]
    },
    {
     "name": "stderr",
     "output_type": "stream",
     "text": [
      "100%|██████████| 20000/20000 [00:00<00:00, 2622259.46it/s]"
     ]
    },
    {
     "name": "stdout",
     "output_type": "stream",
     "text": [
      "False\n",
      "Loss after epoch 169: 0.0\n"
     ]
    },
    {
     "name": "stderr",
     "output_type": "stream",
     "text": [
      "\n"
     ]
    },
    {
     "name": "stdout",
     "output_type": "stream",
     "text": [
      "False\n",
      "Loss after epoch 170: 0.0\n",
      "False\n",
      "Loss after epoch 171: 0.0\n",
      "False\n",
      "Loss after epoch 172: 0.0\n",
      "False\n",
      "Loss after epoch 173: 0.0\n",
      "False\n",
      "Loss after epoch 174: 0.0\n",
      "False\n",
      "Loss after epoch 175: 0.0\n",
      "False\n",
      "Loss after epoch 176: 0.0\n",
      "False\n",
      "Loss after epoch 177: 0.0\n",
      "False\n",
      "Loss after epoch 178: 0.0\n"
     ]
    },
    {
     "name": "stderr",
     "output_type": "stream",
     "text": [
      "100%|██████████| 20000/20000 [00:00<00:00, 2642996.94it/s]"
     ]
    },
    {
     "name": "stdout",
     "output_type": "stream",
     "text": [
      "False\n",
      "Loss after epoch 179: 0.0\n"
     ]
    },
    {
     "name": "stderr",
     "output_type": "stream",
     "text": [
      "\n"
     ]
    },
    {
     "name": "stdout",
     "output_type": "stream",
     "text": [
      "False\n",
      "Loss after epoch 180: 0.0\n",
      "False\n",
      "Loss after epoch 181: 0.0\n",
      "False\n",
      "Loss after epoch 182: 0.0\n",
      "False\n",
      "Loss after epoch 183: 0.0\n",
      "False\n",
      "Loss after epoch 184: 0.0\n",
      "False\n",
      "Loss after epoch 185: 0.0\n",
      "False\n",
      "Loss after epoch 186: 0.0\n",
      "False\n",
      "Loss after epoch 187: 0.0\n",
      "False\n",
      "Loss after epoch 188: 0.0\n"
     ]
    },
    {
     "name": "stderr",
     "output_type": "stream",
     "text": [
      "100%|██████████| 20000/20000 [00:00<00:00, 2629163.17it/s]"
     ]
    },
    {
     "name": "stdout",
     "output_type": "stream",
     "text": [
      "False\n",
      "Loss after epoch 189: 0.0\n"
     ]
    },
    {
     "name": "stderr",
     "output_type": "stream",
     "text": [
      "\n"
     ]
    },
    {
     "name": "stdout",
     "output_type": "stream",
     "text": [
      "False\n",
      "Loss after epoch 190: 0.0\n",
      "False\n",
      "Loss after epoch 191: 0.0\n",
      "False\n",
      "Loss after epoch 192: 0.0\n",
      "False\n",
      "Loss after epoch 193: 0.0\n",
      "False\n",
      "Loss after epoch 194: 0.0\n",
      "False\n",
      "Loss after epoch 195: 0.0\n",
      "False\n",
      "Loss after epoch 196: 0.0\n",
      "False\n",
      "Loss after epoch 197: 0.0\n",
      "False\n",
      "Loss after epoch 198: 0.0\n"
     ]
    },
    {
     "name": "stderr",
     "output_type": "stream",
     "text": [
      "100%|██████████| 20000/20000 [00:00<00:00, 2817995.16it/s]"
     ]
    },
    {
     "name": "stdout",
     "output_type": "stream",
     "text": [
      "False\n",
      "Loss after epoch 199: 0.0\n"
     ]
    },
    {
     "name": "stderr",
     "output_type": "stream",
     "text": [
      "\n"
     ]
    },
    {
     "name": "stdout",
     "output_type": "stream",
     "text": [
      "False\n",
      "Loss after epoch 200: 0.0\n",
      "False\n",
      "Loss after epoch 201: 0.0\n",
      "False\n",
      "Loss after epoch 202: 0.0\n",
      "False\n",
      "Loss after epoch 203: 0.0\n",
      "False\n",
      "Loss after epoch 204: 0.0\n",
      "False\n",
      "Loss after epoch 205: 0.0\n",
      "False\n",
      "Loss after epoch 206: 0.0\n",
      "False\n",
      "Loss after epoch 207: 0.0\n",
      "False\n",
      "Loss after epoch 208: 0.0\n"
     ]
    },
    {
     "name": "stderr",
     "output_type": "stream",
     "text": [
      "100%|██████████| 20000/20000 [00:00<00:00, 2648671.66it/s]"
     ]
    },
    {
     "name": "stdout",
     "output_type": "stream",
     "text": [
      "False\n",
      "Loss after epoch 209: 0.0\n"
     ]
    },
    {
     "name": "stderr",
     "output_type": "stream",
     "text": [
      "\n"
     ]
    },
    {
     "name": "stdout",
     "output_type": "stream",
     "text": [
      "False\n",
      "Loss after epoch 210: 0.0\n",
      "False\n",
      "Loss after epoch 211: 0.0\n",
      "False\n",
      "Loss after epoch 212: 0.0\n",
      "False\n",
      "Loss after epoch 213: 0.0\n",
      "False\n",
      "Loss after epoch 214: 0.0\n",
      "False\n",
      "Loss after epoch 215: 0.0\n",
      "False\n",
      "Loss after epoch 216: 0.0\n",
      "False\n",
      "Loss after epoch 217: 0.0\n",
      "False\n",
      "Loss after epoch 218: 0.0\n"
     ]
    },
    {
     "name": "stderr",
     "output_type": "stream",
     "text": [
      "100%|██████████| 20000/20000 [00:00<00:00, 2360527.90it/s]"
     ]
    },
    {
     "name": "stdout",
     "output_type": "stream",
     "text": [
      "False\n",
      "Loss after epoch 219: 0.0\n"
     ]
    },
    {
     "name": "stderr",
     "output_type": "stream",
     "text": [
      "\n"
     ]
    },
    {
     "name": "stdout",
     "output_type": "stream",
     "text": [
      "False\n",
      "Loss after epoch 220: 0.0\n",
      "False\n",
      "Loss after epoch 221: 0.0\n",
      "False\n",
      "Loss after epoch 222: 0.0\n",
      "False\n",
      "Loss after epoch 223: 0.0\n",
      "False\n",
      "Loss after epoch 224: 0.0\n",
      "False\n",
      "Loss after epoch 225: 0.0\n",
      "False\n",
      "Loss after epoch 226: 0.0\n",
      "False\n",
      "Loss after epoch 227: 0.0\n",
      "False\n",
      "Loss after epoch 228: 0.0\n"
     ]
    },
    {
     "name": "stderr",
     "output_type": "stream",
     "text": [
      "100%|██████████| 20000/20000 [00:00<00:00, 2663811.25it/s]"
     ]
    },
    {
     "name": "stdout",
     "output_type": "stream",
     "text": [
      "False\n",
      "Loss after epoch 229: 0.0\n"
     ]
    },
    {
     "name": "stderr",
     "output_type": "stream",
     "text": [
      "\n"
     ]
    },
    {
     "name": "stdout",
     "output_type": "stream",
     "text": [
      "False\n",
      "Loss after epoch 230: 0.0\n",
      "False\n",
      "Loss after epoch 231: 0.0\n",
      "False\n",
      "Loss after epoch 232: 0.0\n",
      "False\n",
      "Loss after epoch 233: 0.0\n",
      "False\n",
      "Loss after epoch 234: 0.0\n",
      "False\n",
      "Loss after epoch 235: 0.0\n",
      "False\n",
      "Loss after epoch 236: 0.0\n",
      "False\n",
      "Loss after epoch 237: 0.0\n",
      "False\n",
      "Loss after epoch 238: 0.0\n"
     ]
    },
    {
     "name": "stderr",
     "output_type": "stream",
     "text": [
      "100%|██████████| 20000/20000 [00:00<00:00, 2663811.25it/s]"
     ]
    },
    {
     "name": "stdout",
     "output_type": "stream",
     "text": [
      "False\n",
      "Loss after epoch 239: 0.0\n"
     ]
    },
    {
     "name": "stderr",
     "output_type": "stream",
     "text": [
      "\n"
     ]
    },
    {
     "name": "stdout",
     "output_type": "stream",
     "text": [
      "False\n",
      "Loss after epoch 240: 0.0\n",
      "False\n",
      "Loss after epoch 241: 0.0\n",
      "False\n",
      "Loss after epoch 242: 0.0\n",
      "False\n",
      "Loss after epoch 243: 0.0\n",
      "False\n",
      "Loss after epoch 244: 0.0\n",
      "False\n",
      "Loss after epoch 245: 0.0\n",
      "False\n",
      "Loss after epoch 246: 0.0\n",
      "False\n",
      "Loss after epoch 247: 0.0\n",
      "False\n",
      "Loss after epoch 248: 0.0\n"
     ]
    },
    {
     "name": "stderr",
     "output_type": "stream",
     "text": [
      "100%|██████████| 20000/20000 [00:00<00:00, 2731555.85it/s]"
     ]
    },
    {
     "name": "stdout",
     "output_type": "stream",
     "text": [
      "False\n",
      "Loss after epoch 249: 0.0\n"
     ]
    },
    {
     "name": "stderr",
     "output_type": "stream",
     "text": [
      "\n"
     ]
    },
    {
     "name": "stdout",
     "output_type": "stream",
     "text": [
      "False\n",
      "Loss after epoch 250: 0.0\n",
      "False\n",
      "Loss after epoch 251: 0.0\n",
      "False\n",
      "Loss after epoch 252: 0.0\n",
      "False\n",
      "Loss after epoch 253: 0.0\n",
      "False\n",
      "Loss after epoch 254: 0.0\n",
      "False\n",
      "Loss after epoch 255: 0.0\n",
      "False\n",
      "Loss after epoch 256: 0.0\n",
      "False\n",
      "Loss after epoch 257: 0.0\n",
      "False\n",
      "Loss after epoch 258: 0.0\n"
     ]
    },
    {
     "name": "stderr",
     "output_type": "stream",
     "text": [
      "100%|██████████| 20000/20000 [00:00<00:00, 2692107.83it/s]"
     ]
    },
    {
     "name": "stdout",
     "output_type": "stream",
     "text": [
      "False\n",
      "Loss after epoch 259: 0.0\n"
     ]
    },
    {
     "name": "stderr",
     "output_type": "stream",
     "text": [
      "\n"
     ]
    },
    {
     "name": "stdout",
     "output_type": "stream",
     "text": [
      "False\n",
      "Loss after epoch 260: 0.0\n",
      "False\n",
      "Loss after epoch 261: 0.0\n",
      "False\n",
      "Loss after epoch 262: 0.0\n",
      "False\n",
      "Loss after epoch 263: 0.0\n",
      "False\n",
      "Loss after epoch 264: 0.0\n",
      "False\n",
      "Loss after epoch 265: 0.0\n",
      "False\n",
      "Loss after epoch 266: 0.0\n",
      "False\n",
      "Loss after epoch 267: 0.0\n",
      "False\n",
      "Loss after epoch 268: 0.0\n"
     ]
    },
    {
     "name": "stderr",
     "output_type": "stream",
     "text": [
      "100%|██████████| 20000/20000 [00:00<00:00, 2623981.98it/s]"
     ]
    },
    {
     "name": "stdout",
     "output_type": "stream",
     "text": [
      "False\n",
      "Loss after epoch 269: 0.0\n"
     ]
    },
    {
     "name": "stderr",
     "output_type": "stream",
     "text": [
      "\n"
     ]
    },
    {
     "name": "stdout",
     "output_type": "stream",
     "text": [
      "False\n",
      "Loss after epoch 270: 0.0\n",
      "False\n",
      "Loss after epoch 271: 0.0\n",
      "False\n",
      "Loss after epoch 272: 0.0\n",
      "False\n",
      "Loss after epoch 273: 0.0\n",
      "False\n",
      "Loss after epoch 274: 0.0\n",
      "False\n",
      "Loss after epoch 275: 0.0\n",
      "False\n",
      "Loss after epoch 276: 0.0\n",
      "False\n",
      "Loss after epoch 277: 0.0\n",
      "False\n",
      "Loss after epoch 278: 0.0\n"
     ]
    },
    {
     "name": "stderr",
     "output_type": "stream",
     "text": [
      "100%|██████████| 20000/20000 [00:00<00:00, 2587399.52it/s]"
     ]
    },
    {
     "name": "stdout",
     "output_type": "stream",
     "text": [
      "False\n",
      "Loss after epoch 279: 0.0\n"
     ]
    },
    {
     "name": "stderr",
     "output_type": "stream",
     "text": [
      "\n"
     ]
    },
    {
     "name": "stdout",
     "output_type": "stream",
     "text": [
      "False\n",
      "Loss after epoch 280: 0.0\n",
      "False\n",
      "Loss after epoch 281: 0.0\n",
      "False\n",
      "Loss after epoch 282: 0.0\n",
      "False\n",
      "Loss after epoch 283: 0.0\n",
      "False\n",
      "Loss after epoch 284: 0.0\n",
      "False\n",
      "Loss after epoch 285: 0.0\n",
      "False\n",
      "Loss after epoch 286: 0.0\n",
      "False\n",
      "Loss after epoch 287: 0.0\n",
      "False\n",
      "Loss after epoch 288: 0.0\n"
     ]
    },
    {
     "name": "stderr",
     "output_type": "stream",
     "text": [
      "100%|██████████| 20000/20000 [00:00<00:00, 2609534.00it/s]"
     ]
    },
    {
     "name": "stdout",
     "output_type": "stream",
     "text": [
      "False\n",
      "Loss after epoch 289: 0.0\n"
     ]
    },
    {
     "name": "stderr",
     "output_type": "stream",
     "text": [
      "\n"
     ]
    },
    {
     "name": "stdout",
     "output_type": "stream",
     "text": [
      "False\n",
      "Loss after epoch 290: 0.0\n",
      "False\n",
      "Loss after epoch 291: 0.0\n",
      "False\n",
      "Loss after epoch 292: 0.0\n",
      "False\n",
      "Loss after epoch 293: 0.0\n",
      "False\n",
      "Loss after epoch 294: 0.0\n",
      "False\n",
      "Loss after epoch 295: 0.0\n",
      "False\n",
      "Loss after epoch 296: 0.0\n",
      "False\n",
      "Loss after epoch 297: 0.0\n",
      "False\n",
      "Loss after epoch 298: 0.0\n",
      "False\n",
      "Loss after epoch 299: 0.0\n"
     ]
    }
   ],
   "source": [
    "from sklearn import utils\n",
    "\n",
    "for epoch in range(30):\n",
    "    model_dbow.train(utils.shuffle([x for x in tqdm(train_tagged)]), total_examples=len(train_tagged), epochs=10)\n",
    "    model_dbow.alpha -= 0.002\n",
    "    model_dbow.min_alpha = model_dbow.alpha"
   ]
  },
  {
   "cell_type": "code",
   "execution_count": 152,
   "metadata": {},
   "outputs": [
    {
     "name": "stderr",
     "output_type": "stream",
     "text": [
      "/Library/Frameworks/Python.framework/Versions/3.7/lib/python3.7/site-packages/ipykernel_launcher.py:1: DeprecationWarning: Call to deprecated `most_similar` (Method will be removed in 4.0.0, use self.wv.most_similar() instead).\n",
      "  \"\"\"Entry point for launching an IPython kernel.\n"
     ]
    },
    {
     "data": {
      "text/plain": [
       "[('89or', 0.2478301227092743),\n",
       " ('activist', 0.23987147212028503),\n",
       " ('happen.the', 0.23573514819145203),\n",
       " ('distraction.in', 0.23508785665035248),\n",
       " ('absence', 0.22881807386875153),\n",
       " ('durability', 0.2242746502161026),\n",
       " ('reverted', 0.2207041084766388),\n",
       " ('secular', 0.21885843575000763),\n",
       " ('scarefest', 0.21839639544487),\n",
       " ('debut.sinatra', 0.21741917729377747)]"
      ]
     },
     "execution_count": 152,
     "metadata": {},
     "output_type": "execute_result"
    }
   ],
   "source": [
    "model_dbow.most_similar('bad')"
   ]
  },
  {
   "cell_type": "code",
   "execution_count": 95,
   "metadata": {},
   "outputs": [],
   "source": [
    " def vec_for_learning(model, tagged_docs):\n",
    "        sents = tagged_docs\n",
    "        targets, regressors = zip(*[(doc.tags[0], model.infer_vector(doc.words, steps=20)) for doc in sents])\n",
    "        return targets, regressors\n",
    "    "
   ]
  },
  {
   "cell_type": "code",
   "execution_count": 96,
   "metadata": {},
   "outputs": [],
   "source": [
    "from sklearn.linear_model import LogisticRegression\n",
    "from sklearn.metrics import accuracy_score, f1_score\n",
    "\n",
    "y_train, X_train = vec_for_learning(model_dbow, train_tagged)\n",
    "y_test, X_test = vec_for_learning(model_dbow, test_tagged)"
   ]
  },
  {
   "cell_type": "code",
   "execution_count": 99,
   "metadata": {},
   "outputs": [],
   "source": [
    "from sklearn.metrics import confusion_matrix\n",
    "\n",
    "def accuracy(confusion_matrix):\n",
    "    diagonal_sum = confusion_matrix.trace()\n",
    "    sum_of_all_elements = confusion_matrix.sum()\n",
    "    return diagonal_sum / sum_of_all_elements"
   ]
  },
  {
   "cell_type": "code",
   "execution_count": 136,
   "metadata": {},
   "outputs": [],
   "source": [
    "#Importing MLPClassifier\n",
    "from sklearn.neural_network import MLPClassifier\n",
    "\n",
    "#Initializing the MLPClassifier\n",
    "classifier = MLPClassifier(\n",
    "    hidden_layer_sizes=(150,), \n",
    "#     max_iter=300,\n",
    "    batch_size=100,\n",
    "#     warm_start=True,\n",
    "    activation = 'relu',\n",
    "    solver='sgd',\n",
    "    verbose=True,\n",
    "    learning_rate_init=0.25,\n",
    "    learning_rate='adaptive',\n",
    "#     early_stopping=True,\n",
    "#     random_state=1\n",
    ")"
   ]
  },
  {
   "cell_type": "code",
   "execution_count": 137,
   "metadata": {},
   "outputs": [
    {
     "name": "stdout",
     "output_type": "stream",
     "text": [
      "Iteration 1, loss = 9.91651515\n",
      "Iteration 2, loss = 9.90923057\n",
      "Iteration 3, loss = 9.88770364\n",
      "Iteration 4, loss = 9.87263612\n",
      "Iteration 5, loss = 9.86671018\n",
      "Iteration 6, loss = 9.86315978\n",
      "Iteration 7, loss = 9.86035659\n",
      "Iteration 8, loss = 9.85805324\n",
      "Iteration 9, loss = 9.85625954\n",
      "Iteration 10, loss = 9.85474751\n",
      "Iteration 11, loss = 9.85329894\n",
      "Iteration 12, loss = 9.85201579\n",
      "Iteration 13, loss = 9.85062858\n",
      "Iteration 14, loss = 9.84943788\n"
     ]
    },
    {
     "name": "stderr",
     "output_type": "stream",
     "text": [
      "/Library/Frameworks/Python.framework/Versions/3.7/lib/python3.7/site-packages/sklearn/neural_network/multilayer_perceptron.py:564: UserWarning: Training interrupted by user.\n",
      "  warnings.warn(\"Training interrupted by user.\")\n"
     ]
    },
    {
     "data": {
      "text/plain": [
       "MLPClassifier(activation='relu', alpha=0.0001, batch_size=100, beta_1=0.9,\n",
       "       beta_2=0.999, early_stopping=False, epsilon=1e-08,\n",
       "       hidden_layer_sizes=(150,), learning_rate='adaptive',\n",
       "       learning_rate_init=0.25, max_iter=200, momentum=0.9,\n",
       "       n_iter_no_change=10, nesterovs_momentum=True, power_t=0.5,\n",
       "       random_state=None, shuffle=True, solver='sgd', tol=0.0001,\n",
       "       validation_fraction=0.1, verbose=True, warm_start=False)"
      ]
     },
     "execution_count": 137,
     "metadata": {},
     "output_type": "execute_result"
    }
   ],
   "source": [
    "#Fitting the training data to the network\n",
    "classifier.fit(X_train, y_train)"
   ]
  },
  {
   "cell_type": "code",
   "execution_count": 138,
   "metadata": {},
   "outputs": [
    {
     "name": "stdout",
     "output_type": "stream",
     "text": [
      "[9.916515147918913, 9.909230567001828, 9.887703642517021, 9.872636122944929, 9.866710177318332, 9.863159777493543, 9.860356587897483, 9.858053242417137, 9.856259540487134, 9.854747507014801, 9.853298944762049, 9.852015792611056, 9.850628575442544, 9.849437883450317]\n"
     ]
    }
   ],
   "source": [
    "y_pred = classifier.predict(X_test)\n",
    "test_acc = accuracy_score(y_test, y_pred) * 100.\n",
    "loss_values = classifier.loss_curve_\n",
    "print (loss_values)"
   ]
  },
  {
   "cell_type": "code",
   "execution_count": 139,
   "metadata": {},
   "outputs": [
    {
     "data": {
      "image/png": "[encoded data removed]",
      "text/plain": [
       "<Figure size 432x288 with 1 Axes>"
      ]
     },
     "metadata": {
      "needs_background": "light"
     },
     "output_type": "display_data"
    }
   ],
   "source": [
    "import matplotlib.pyplot as plt\n",
    "\n",
    "plt.plot(loss_values)\n",
    "plt.show()"
   ]
  },
  {
   "cell_type": "code",
   "execution_count": 141,
   "metadata": {},
   "outputs": [
    {
     "name": "stdout",
     "output_type": "stream",
     "text": [
      "Testing accuracy 0.0\n",
      "Testing F1 score: 0.0\n"
     ]
    },
    {
     "name": "stderr",
     "output_type": "stream",
     "text": [
      "/Library/Frameworks/Python.framework/Versions/3.7/lib/python3.7/site-packages/sklearn/metrics/classification.py:1143: UndefinedMetricWarning: F-score is ill-defined and being set to 0.0 in labels with no predicted samples.\n",
      "  'precision', 'predicted', average, warn_for)\n",
      "/Library/Frameworks/Python.framework/Versions/3.7/lib/python3.7/site-packages/sklearn/metrics/classification.py:1145: UndefinedMetricWarning: F-score is ill-defined and being set to 0.0 in labels with no true samples.\n",
      "  'recall', 'true', average, warn_for)\n"
     ]
    }
   ],
   "source": [
    "print('Testing accuracy %s' % accuracy_score(y_test, y_pred))\n",
    "print('Testing F1 score: {}'.format(f1_score(y_test, y_pred, average='weighted')))"
   ]
  },
  {
   "cell_type": "code",
   "execution_count": 180,
   "metadata": {},
   "outputs": [],
   "source": [
    "def vec_for_learning(model, tagged_docs):\n",
    "    sents = tagged_docs.values\n",
    "    targets, regressors = zip(*[(doc.tags[0], model.infer_vector(doc.words, steps=20)) for doc in sents])\n",
    "    return targets, regressors"
   ]
  },
  {
   "cell_type": "code",
   "execution_count": 181,
   "metadata": {},
   "outputs": [
    {
     "ename": "AttributeError",
     "evalue": "'list' object has no attribute 'values'",
     "output_type": "error",
     "traceback": [
      "\u001b[0;31m---------------------------------------------------------------------------\u001b[0m",
      "\u001b[0;31mAttributeError\u001b[0m                            Traceback (most recent call last)",
      "\u001b[0;32m<ipython-input-181-9de487eeff83>\u001b[0m in \u001b[0;36m<module>\u001b[0;34m()\u001b[0m\n\u001b[0;32m----> 1\u001b[0;31m \u001b[0my_train\u001b[0m\u001b[0;34m,\u001b[0m \u001b[0mX_train\u001b[0m \u001b[0;34m=\u001b[0m \u001b[0mvec_for_learning\u001b[0m\u001b[0;34m(\u001b[0m\u001b[0mmodel_dbow\u001b[0m\u001b[0;34m,\u001b[0m \u001b[0mtrain_tagged\u001b[0m\u001b[0;34m)\u001b[0m\u001b[0;34m\u001b[0m\u001b[0;34m\u001b[0m\u001b[0m\n\u001b[0m\u001b[1;32m      2\u001b[0m \u001b[0my_test\u001b[0m\u001b[0;34m,\u001b[0m \u001b[0mX_test\u001b[0m \u001b[0;34m=\u001b[0m \u001b[0mvec_for_learning\u001b[0m\u001b[0;34m(\u001b[0m\u001b[0mmodel_dbow\u001b[0m\u001b[0;34m,\u001b[0m \u001b[0mtest_tagged\u001b[0m\u001b[0;34m)\u001b[0m\u001b[0;34m\u001b[0m\u001b[0;34m\u001b[0m\u001b[0m\n\u001b[1;32m      3\u001b[0m \u001b[0mlogreg\u001b[0m \u001b[0;34m=\u001b[0m \u001b[0mLogisticRegression\u001b[0m\u001b[0;34m(\u001b[0m\u001b[0mn_jobs\u001b[0m\u001b[0;34m=\u001b[0m\u001b[0;36m1\u001b[0m\u001b[0;34m,\u001b[0m \u001b[0mC\u001b[0m\u001b[0;34m=\u001b[0m\u001b[0;36m1e5\u001b[0m\u001b[0;34m)\u001b[0m\u001b[0;34m\u001b[0m\u001b[0;34m\u001b[0m\u001b[0m\n\u001b[1;32m      4\u001b[0m \u001b[0mlogreg\u001b[0m\u001b[0;34m.\u001b[0m\u001b[0mfit\u001b[0m\u001b[0;34m(\u001b[0m\u001b[0mX_train\u001b[0m\u001b[0;34m,\u001b[0m \u001b[0my_train\u001b[0m\u001b[0;34m)\u001b[0m\u001b[0;34m\u001b[0m\u001b[0;34m\u001b[0m\u001b[0m\n\u001b[1;32m      5\u001b[0m \u001b[0my_pred\u001b[0m \u001b[0;34m=\u001b[0m \u001b[0mlogreg\u001b[0m\u001b[0;34m.\u001b[0m\u001b[0mpredict\u001b[0m\u001b[0;34m(\u001b[0m\u001b[0mX_test\u001b[0m\u001b[0;34m)\u001b[0m\u001b[0;34m\u001b[0m\u001b[0;34m\u001b[0m\u001b[0m\n",
      "\u001b[0;32m<ipython-input-180-129e88358c81>\u001b[0m in \u001b[0;36mvec_for_learning\u001b[0;34m(model, tagged_docs)\u001b[0m\n\u001b[1;32m      1\u001b[0m \u001b[0;32mdef\u001b[0m \u001b[0mvec_for_learning\u001b[0m\u001b[0;34m(\u001b[0m\u001b[0mmodel\u001b[0m\u001b[0;34m,\u001b[0m \u001b[0mtagged_docs\u001b[0m\u001b[0;34m)\u001b[0m\u001b[0;34m:\u001b[0m\u001b[0;34m\u001b[0m\u001b[0;34m\u001b[0m\u001b[0m\n\u001b[0;32m----> 2\u001b[0;31m     \u001b[0msents\u001b[0m \u001b[0;34m=\u001b[0m \u001b[0mtagged_docs\u001b[0m\u001b[0;34m.\u001b[0m\u001b[0mvalues\u001b[0m\u001b[0;34m\u001b[0m\u001b[0;34m\u001b[0m\u001b[0m\n\u001b[0m\u001b[1;32m      3\u001b[0m     \u001b[0mtargets\u001b[0m\u001b[0;34m,\u001b[0m \u001b[0mregressors\u001b[0m \u001b[0;34m=\u001b[0m \u001b[0mzip\u001b[0m\u001b[0;34m(\u001b[0m\u001b[0;34m*\u001b[0m\u001b[0;34m[\u001b[0m\u001b[0;34m(\u001b[0m\u001b[0mdoc\u001b[0m\u001b[0;34m.\u001b[0m\u001b[0mtags\u001b[0m\u001b[0;34m[\u001b[0m\u001b[0;36m0\u001b[0m\u001b[0;34m]\u001b[0m\u001b[0;34m,\u001b[0m \u001b[0mmodel\u001b[0m\u001b[0;34m.\u001b[0m\u001b[0minfer_vector\u001b[0m\u001b[0;34m(\u001b[0m\u001b[0mdoc\u001b[0m\u001b[0;34m.\u001b[0m\u001b[0mwords\u001b[0m\u001b[0;34m,\u001b[0m \u001b[0msteps\u001b[0m\u001b[0;34m=\u001b[0m\u001b[0;36m20\u001b[0m\u001b[0;34m)\u001b[0m\u001b[0;34m)\u001b[0m \u001b[0;32mfor\u001b[0m \u001b[0mdoc\u001b[0m \u001b[0;32min\u001b[0m \u001b[0msents\u001b[0m\u001b[0;34m]\u001b[0m\u001b[0;34m)\u001b[0m\u001b[0;34m\u001b[0m\u001b[0;34m\u001b[0m\u001b[0m\n\u001b[1;32m      4\u001b[0m     \u001b[0;32mreturn\u001b[0m \u001b[0mtargets\u001b[0m\u001b[0;34m,\u001b[0m \u001b[0mregressors\u001b[0m\u001b[0;34m\u001b[0m\u001b[0;34m\u001b[0m\u001b[0m\n",
      "\u001b[0;31mAttributeError\u001b[0m: 'list' object has no attribute 'values'"
     ]
    }
   ],
   "source": [
    "y_train, X_train = vec_for_learning(model_dbow, train_tagged)\n",
    "y_test, X_test = vec_for_learning(model_dbow, test_tagged)\n",
    "logreg = LogisticRegression(n_jobs=1, C=1e5)\n",
    "logreg.fit(X_train, y_train)\n",
    "y_pred = logreg.predict(X_test)\n",
    "from sklearn.metrics import accuracy_score, f1_score\n",
    "print('Testing accuracy %s' % accuracy_score(y_test, y_pred))\n",
    "print('Testing F1 score: {}'.format(f1_score(y_test, y_pred, average='weighted')))\n"
   ]
  }
 ],
 "metadata": {
  "kernelspec": {
   "display_name": "Python 3",
   "language": "python",
   "name": "python3"
  },
  "language_info": {
   "codemirror_mode": {
    "name": "ipython",
    "version": 3
   },
   "file_extension": ".py",
   "mimetype": "text/x-python",
   "name": "python",
   "nbconvert_exporter": "python",
   "pygments_lexer": "ipython3",
   "version": "3.7.3"
  }
 },
 "nbformat": 4,
 "nbformat_minor": 1
}
